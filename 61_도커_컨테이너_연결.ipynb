{
 "cells": [
  {
   "cell_type": "code",
   "execution_count": null,
   "id": "512466f6",
   "metadata": {},
   "outputs": [],
   "source": [
    "#pip install cryptography\n",
    "#MySQL 서버가 사용하는 인증 방식(caching_sha2_password)을 처리하기 위해 Python 라이브러리 cryptography가 필요"
   ]
  },
  {
   "cell_type": "code",
   "execution_count": null,
   "id": "a9dc1b08",
   "metadata": {},
   "outputs": [],
   "source": [
    "import pymysql\n",
    "\n",
    "# MySQL 연결 설정\n",
    "connection = pymysql.connect(\n",
    "    host='192.168.47.132',  # 도커 컨테이너가 로컬에서 실행 중이므로 localhost\n",
    "    port=3307,         # 도커 실행 시 매핑한 포트 (3307:3306)\n",
    "    user='root',       # MySQL 사용자 이름\n",
    "    password='1234',   # 도커 실행 시 설정한 루트 비밀번호\n",
    "    #database='mysql'   # 기본 데이터베이스 (없으면 생성한 데이터베이스 이름)\n",
    "    database='my_db'\n",
    ")"
   ]
  },
  {
   "cell_type": "code",
   "execution_count": 3,
   "id": "a6429958",
   "metadata": {},
   "outputs": [
    {
     "name": "stdout",
     "output_type": "stream",
     "text": [
      "MySQL 버전: 9.4.0\n",
      "데이터베이스 목록:\n",
      "- information_schema\n",
      "- my_db\n",
      "- mydb\n",
      "- mysql\n",
      "- performance_schema\n",
      "- sys\n",
      "- testdb\n"
     ]
    }
   ],
   "source": [
    "\n",
    "try:\n",
    "    # 커서 생성\n",
    "    with connection.cursor() as cursor:\n",
    "        # SQL 쿼리 실행\n",
    "        cursor.execute(\"SELECT VERSION()\")\n",
    "        # 결과 가져오기\n",
    "        result = cursor.fetchone()\n",
    "        print(f\"MySQL 버전: {result[0]}\")\n",
    "        \n",
    "        # 데이터베이스 목록 조회\n",
    "        cursor.execute(\"SHOW DATABASES\")\n",
    "        databases = cursor.fetchall()\n",
    "        print(\"데이터베이스 목록:\")\n",
    "        for db in databases:\n",
    "            print(f\"- {db[0]}\")\n",
    "            \n",
    "finally:\n",
    "    # 연결 종료\n",
    "    connection.close()\n"
   ]
  },
  {
   "cell_type": "code",
   "execution_count": 4,
   "id": "f8f462c3",
   "metadata": {},
   "outputs": [],
   "source": [
    "import pymysql\n",
    "\n",
    "# MySQL 연결 설정\n",
    "connection = pymysql.connect(\n",
    "    host='192.168.47.132',  # 도커 컨테이너가 로컬에서 실행 중이므로 localhost\n",
    "    port=3307,         # 도커 실행 시 매핑한 포트 (3307:3306)\n",
    "    user='root',       # MySQL 사용자 이름\n",
    "    password='1234',   # 도커 실행 시 설정한 루트 비밀번호\n",
    "    #database='mysql'   # 기본 데이터베이스 (없으면 생성한 데이터베이스 이름)\n",
    "    database='my_db'\n",
    ")"
   ]
  },
  {
   "cell_type": "code",
   "execution_count": 12,
   "id": "e7a258de",
   "metadata": {},
   "outputs": [],
   "source": [
    "#connection.close()"
   ]
  },
  {
   "cell_type": "code",
   "execution_count": 5,
   "id": "7275be95",
   "metadata": {},
   "outputs": [
    {
     "name": "stdout",
     "output_type": "stream",
     "text": [
      "테이블 생성 및 테스트 데이터 삽입 완료\n"
     ]
    }
   ],
   "source": [
    "\n",
    "try:\n",
    "    with connection.cursor() as cursor:\n",
    "        # 테이블 생성 (예: users)\n",
    "        create_table_sql = \"\"\"\n",
    "        CREATE TABLE IF NOT EXISTS users (\n",
    "            id INT AUTO_INCREMENT PRIMARY KEY,\n",
    "            name VARCHAR(50),\n",
    "            email VARCHAR(100)\n",
    "        );\n",
    "        \"\"\"\n",
    "        cursor.execute(create_table_sql)\n",
    "\n",
    "        # 테스트 데이터 삽입\n",
    "        insert_sql = \"INSERT INTO users (name, email) VALUES (%s, %s);\"\n",
    "        test_data = [\n",
    "            ('홍길동', 'hong@example.com'),\n",
    "            ('김철수', 'kim@example.com'),\n",
    "        ]\n",
    "        cursor.executemany(insert_sql, test_data)\n",
    "\n",
    "    # 변경사항 커밋\n",
    "    connection.commit()\n",
    "\n",
    "    print(\"테이블 생성 및 테스트 데이터 삽입 완료\")\n",
    "\n",
    "finally:\n",
    "    connection.close()\n"
   ]
  }
 ],
 "metadata": {
  "kernelspec": {
   "display_name": "hipython",
   "language": "python",
   "name": "python3"
  },
  "language_info": {
   "codemirror_mode": {
    "name": "ipython",
    "version": 3
   },
   "file_extension": ".py",
   "mimetype": "text/x-python",
   "name": "python",
   "nbconvert_exporter": "python",
   "pygments_lexer": "ipython3",
   "version": "3.12.9"
  }
 },
 "nbformat": 4,
 "nbformat_minor": 5
}
